{
 "cells": [
  {
   "cell_type": "markdown",
   "id": "e10f0914",
   "metadata": {},
   "source": [
    "# Задача\n",
    "__________\n",
    "\n",
    "**Часть 1. Генерация информации**\n",
    "\n",
    "Мы использовали библиотеку Faker для генерации логов веб-сервера. Логи содержат следующую информацию:\n",
    "\n",
    "- IP-адрес клиента\n",
    "- Временная метка запроса\n",
    "- HTTP-метод (GET, POST, etc.)\n",
    "- URL запроса\n",
    "- Код ответа (200, 404, etc.)\n",
    "- Размер ответа в байтах\n",
    "\n",
    "Сгенерировали 100,000 записей логов и сохранили их в CSV-файл.\n",
    "\n",
    "**Часть 2. Анализ информации**\n",
    "\n",
    "1. Сгруппируйте данные по IP и посчитайте количество запросов для каждого IP, выводим 10 самых активных IP.\n",
    "\n",
    "2. Сгруппируйте данные по HTTP-методу и посчитайте количество запросов для каждого метода.\n",
    "\n",
    "3. Профильтруйте и посчитайте количество запросов с кодом ответа 404.\n",
    "\n",
    "4. Сгруппируйте данные по дате и просуммируйте размер ответов, сортируйте по дате."
   ]
  },
  {
   "cell_type": "markdown",
   "id": "f6a6c7b0",
   "metadata": {},
   "source": [
    "# Загрузка и настройка библиотек"
   ]
  },
  {
   "cell_type": "code",
   "execution_count": 1,
   "id": "391a2083",
   "metadata": {},
   "outputs": [
    {
     "name": "stderr",
     "output_type": "stream",
     "text": [
      "WARNING: Using incubator modules: jdk.incubator.vector\n",
      "Using Spark's default log4j profile: org/apache/spark/log4j2-defaults.properties\n",
      "25/08/11 21:30:00 WARN Utils: Your hostname, DESKTOP-O4NLJ3P, resolves to a loopback address: 127.0.1.1; using 172.27.58.90 instead (on interface eth0)\n",
      "25/08/11 21:30:00 WARN Utils: Set SPARK_LOCAL_IP if you need to bind to another address\n",
      "Using Spark's default log4j profile: org/apache/spark/log4j2-defaults.properties\n",
      "Setting default log level to \"WARN\".\n",
      "To adjust logging level use sc.setLogLevel(newLevel). For SparkR, use setLogLevel(newLevel).\n",
      "25/08/11 21:30:11 WARN NativeCodeLoader: Unable to load native-hadoop library for your platform... using builtin-java classes where applicable\n",
      "25/08/11 21:30:11 WARN Utils: Service 'SparkUI' could not bind on port 4040. Attempting port 4041.\n",
      "25/08/11 21:30:11 WARN Utils: Service 'SparkUI' could not bind on port 4041. Attempting port 4042.\n"
     ]
    }
   ],
   "source": [
    "import csv\n",
    "import random\n",
    "from datetime import datetime, timedelta\n",
    "\n",
    "# faker\n",
    "from faker import Faker\n",
    "fake = Faker()\n",
    "\n",
    "# pyspark\n",
    "from pyspark.sql import SparkSession\n",
    "from pyspark.sql.functions import count, sum, desc\n",
    "\n",
    "spark = SparkSession.builder \\\n",
    "    .appName(\"pyspark_hw_final\") \\\n",
    "    .master(\"local[*]\") \\\n",
    "    .getOrCreate()"
   ]
  },
  {
   "cell_type": "markdown",
   "id": "1b2cbe98",
   "metadata": {},
   "source": [
    "# Генерация данных"
   ]
  },
  {
   "cell_type": "code",
   "execution_count": 2,
   "id": "c413db4d",
   "metadata": {},
   "outputs": [
    {
     "name": "stdout",
     "output_type": "stream",
     "text": [
      "Сгенерировано 100000 записей и сохранено в /home/nick/learning/data_engineer/de_stepik/files/web_server_logs.csv\n"
     ]
    }
   ],
   "source": [
    "num_records = 100000\n",
    "\n",
    "http_methods = ['GET', 'POST', 'PUT', 'DELETE']\n",
    "response_codes = [200, 301, 404, 500]\n",
    "\n",
    "file_path = \"/home/nick/learning/data_engineer/de_stepik/files/web_server_logs.csv\"\n",
    "\n",
    "with open(file_path, mode='w', newline='') as file:\n",
    "    writer = csv.writer(file)\n",
    "    writer.writerow(['ip', 'timestamp', 'method', 'url', 'response_code', 'response_size'])\n",
    "    \n",
    "    for _ in range(num_records):\n",
    "        ip = fake.ipv4()\n",
    "        timestamp = fake.date_time_this_year().isoformat()\n",
    "        method = random.choice(http_methods)\n",
    "        url = fake.uri_path()\n",
    "        response_code = random.choice(response_codes)\n",
    "        response_size = random.randint(100, 10000)\n",
    "        \n",
    "        writer.writerow([ip, timestamp, method, url, response_code, response_size])\n",
    "        \n",
    "print(f\"Сгенерировано {num_records} записей и сохранено в {file_path}\")"
   ]
  },
  {
   "cell_type": "markdown",
   "id": "a4119aee",
   "metadata": {},
   "source": [
    "# Чтение данных"
   ]
  },
  {
   "cell_type": "code",
   "execution_count": 3,
   "id": "a52f41bb",
   "metadata": {},
   "outputs": [
    {
     "name": "stdout",
     "output_type": "stream",
     "text": [
      "Схема данных books_df\n",
      "root\n",
      " |-- ip: string (nullable = true)\n",
      " |-- timestamp: timestamp (nullable = true)\n",
      " |-- method: string (nullable = true)\n",
      " |-- url: string (nullable = true)\n",
      " |-- response_code: integer (nullable = true)\n",
      " |-- response_size: integer (nullable = true)\n",
      "\n",
      "+---------------+--------------------------+------+---------------+-------------+-------------+\n",
      "|ip             |timestamp                 |method|url            |response_code|response_size|\n",
      "+---------------+--------------------------+------+---------------+-------------+-------------+\n",
      "|169.194.198.188|2025-07-15 11:48:19.288121|GET   |posts/tags     |301          |2438         |\n",
      "|93.188.19.13   |2025-07-08 03:16:12.951191|PUT   |posts          |500          |1625         |\n",
      "|115.57.151.168 |2025-08-07 19:52:45.659922|GET   |wp-content/main|404          |4696         |\n",
      "|35.0.100.168   |2025-04-14 19:31:44.2974  |GET   |search/explore |500          |532          |\n",
      "|173.165.186.142|2025-06-28 14:20:25.185811|DELETE|posts          |404          |9943         |\n",
      "+---------------+--------------------------+------+---------------+-------------+-------------+\n",
      "only showing top 5 rows\n"
     ]
    }
   ],
   "source": [
    "# 1. Чтение CSV файла\n",
    "web_server_logs_df = spark.read \\\n",
    "    .option(\"header\", \"true\") \\\n",
    "    .schema(\"ip STRING, timestamp TIMESTAMP, method STRING, url STRING, response_code INT, response_size INT\") \\\n",
    "    .csv(\"/home/nick/learning/data_engineer/de_stepik/files/web_server_logs.csv\")\n",
    "    \n",
    "    \n",
    "# 2. Просмотр структуры данных\n",
    "print(\"Схема данных books_df\")\n",
    "web_server_logs_df.printSchema()\n",
    "\n",
    "\n",
    "# 3. Просмотр данных в табличном формате\n",
    "web_server_logs_df.show(5, truncate=False)"
   ]
  },
  {
   "cell_type": "markdown",
   "id": "a26ba2cc",
   "metadata": {},
   "source": [
    "# Анализ информации"
   ]
  },
  {
   "cell_type": "markdown",
   "id": "8a900977",
   "metadata": {},
   "source": [
    "## 1. Сгруппируйте данные по IP и посчитайте количество запросов для каждого IP, выводим 10 самых активных IP."
   ]
  },
  {
   "cell_type": "code",
   "execution_count": null,
   "id": "26a00869",
   "metadata": {},
   "outputs": [
    {
     "name": "stdout",
     "output_type": "stream",
     "text": [
      "Top 10 active IP addresses\n",
      "+---------------+-------------+\n",
      "|             ip|request_count|\n",
      "+---------------+-------------+\n",
      "|  96.45.194.167|            2|\n",
      "|   31.113.43.53|            2|\n",
      "|    49.32.45.26|            1|\n",
      "|  54.140.47.132|            1|\n",
      "|209.211.229.158|            1|\n",
      "| 181.89.106.110|            1|\n",
      "|   183.81.202.9|            1|\n",
      "|   1.68.165.194|            1|\n",
      "| 18.185.169.241|            1|\n",
      "| 21.103.124.202|            1|\n",
      "+---------------+-------------+\n",
      "\n"
     ]
    }
   ],
   "source": [
    "print(\"Top 10 active IP addresses:\")\n",
    "web_server_logs_df \\\n",
    "    .groupBy(\"ip\") \\\n",
    "    .agg(count(\"*\").alias(\"request_count\")) \\\n",
    "    .orderBy(desc(\"request_count\")) \\\n",
    "    .limit(10) \\\n",
    "    .show()"
   ]
  },
  {
   "cell_type": "markdown",
   "id": "0e2cc0b2",
   "metadata": {},
   "source": [
    "## 2. Сгруппируйте данные по HTTP-методу и посчитайте количество запросов для каждого метода."
   ]
  },
  {
   "cell_type": "code",
   "execution_count": null,
   "id": "6530bd56",
   "metadata": {},
   "outputs": [
    {
     "name": "stdout",
     "output_type": "stream",
     "text": [
      "Request count by HTTP method\n",
      "+------+------------+\n",
      "|method|method_count|\n",
      "+------+------------+\n",
      "|  POST|       25075|\n",
      "|DELETE|       25000|\n",
      "|   PUT|       24958|\n",
      "|   GET|       24967|\n",
      "+------+------------+\n",
      "\n"
     ]
    }
   ],
   "source": [
    "print(\"Request count by HTTP method:\")\n",
    "web_server_logs_df \\\n",
    "    .groupBy(\"method\") \\\n",
    "    .agg(count(\"*\").alias(\"method_count\")) \\\n",
    "    .show()"
   ]
  },
  {
   "cell_type": "markdown",
   "id": "b1d0c4ab",
   "metadata": {},
   "source": [
    "## 3. Профильтруйте и посчитайте количество запросов с кодом ответа 404."
   ]
  },
  {
   "cell_type": "code",
   "execution_count": 13,
   "id": "ef942553",
   "metadata": {},
   "outputs": [
    {
     "name": "stdout",
     "output_type": "stream",
     "text": [
      "Number of 404 response codes: 24635\n"
     ]
    }
   ],
   "source": [
    "web_server_logs_df.createOrReplaceTempView(\"web_server_logs\")\n",
    "\n",
    "number_of_404 = \\\n",
    "    spark.sql(\"\"\"\n",
    "        SELECT COUNT(*)\n",
    "        FROM web_server_logs\n",
    "        WHERE response_code = 404\n",
    "    \"\"\").first()[0]\n",
    "\n",
    "print(f\"Number of 404 response codes: {number_of_404}\")"
   ]
  },
  {
   "cell_type": "markdown",
   "id": "209f145d",
   "metadata": {},
   "source": [
    "## 4. Сгруппируйте данные по дате и просуммируйте размер ответов, сортируйте по дате."
   ]
  },
  {
   "cell_type": "code",
   "execution_count": 14,
   "id": "e08d5bba",
   "metadata": {},
   "outputs": [
    {
     "name": "stdout",
     "output_type": "stream",
     "text": [
      "Total response size by day:\n",
      "+----------+-------------------+\n",
      "|      date|total_response_size|\n",
      "+----------+-------------------+\n",
      "|2025-01-01|            2502829|\n",
      "|2025-01-02|            2250096|\n",
      "|2025-01-03|            2183530|\n",
      "|2025-01-04|            2240402|\n",
      "|2025-01-05|            2350401|\n",
      "|2025-01-06|            1918317|\n",
      "|2025-01-07|            2179389|\n",
      "|2025-01-08|            2019062|\n",
      "|2025-01-09|            2367440|\n",
      "|2025-01-10|            2429901|\n",
      "|2025-01-11|            2231846|\n",
      "|2025-01-12|            2037497|\n",
      "|2025-01-13|            2170417|\n",
      "|2025-01-14|            2492886|\n",
      "|2025-01-15|            2357468|\n",
      "|2025-01-16|            2477730|\n",
      "|2025-01-17|            2172260|\n",
      "|2025-01-18|            2267976|\n",
      "|2025-01-19|            2202596|\n",
      "|2025-01-20|            2036961|\n",
      "+----------+-------------------+\n",
      "only showing top 20 rows\n"
     ]
    }
   ],
   "source": [
    "print(\"Total response size by day:\")\n",
    "spark.sql(\"\"\"\n",
    "    SELECT timestamp::date AS date,\n",
    "           sum(response_size) AS total_response_size\n",
    "    FROM web_server_logs\n",
    "    GROUP BY date\n",
    "    ORDER BY date\n",
    "\"\"\").show()"
   ]
  },
  {
   "cell_type": "code",
   "execution_count": 4,
   "id": "b3d95f0d",
   "metadata": {},
   "outputs": [],
   "source": [
    "spark.stop()"
   ]
  },
  {
   "cell_type": "code",
   "execution_count": null,
   "id": "e9fd72dd",
   "metadata": {},
   "outputs": [],
   "source": []
  }
 ],
 "metadata": {
  "kernelspec": {
   "display_name": "venv",
   "language": "python",
   "name": "python3"
  },
  "language_info": {
   "codemirror_mode": {
    "name": "ipython",
    "version": 3
   },
   "file_extension": ".py",
   "mimetype": "text/x-python",
   "name": "python",
   "nbconvert_exporter": "python",
   "pygments_lexer": "ipython3",
   "version": "3.10.12"
  }
 },
 "nbformat": 4,
 "nbformat_minor": 5
}
