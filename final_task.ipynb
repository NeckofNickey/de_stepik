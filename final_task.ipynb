{
 "cells": [
  {
   "cell_type": "markdown",
   "id": "1bfef233",
   "metadata": {},
   "source": [
    "# Импорт библиотек"
   ]
  },
  {
   "cell_type": "code",
   "execution_count": 49,
   "id": "e536db31",
   "metadata": {},
   "outputs": [],
   "source": [
    "import sys\n",
    "from typing import List, Dict, Union, TypeAlias\n",
    "\n",
    "# Определяем тип для аннотаций\n",
    "Purchase: TypeAlias = Dict[str, Union[str, int, float]]\n",
    "\n",
    "# Конфигурация\n",
    "MIN_PRICE = 1.0"
   ]
  },
  {
   "cell_type": "markdown",
   "id": "7ba6000d",
   "metadata": {},
   "source": [
    "# Исходные данные"
   ]
  },
  {
   "cell_type": "code",
   "execution_count": 50,
   "id": "8dced562",
   "metadata": {},
   "outputs": [],
   "source": [
    "purchases = [\n",
    "    {\"item\": \"apple\", \"category\": \"fruit\", \"price\": 1.2, \"quantity\": 10},\n",
    "    {\"item\": \"banana\", \"category\": \"fruit\", \"price\": 0.5, \"quantity\": 5},\n",
    "    {\"item\": \"milk\", \"category\": \"dairy\", \"price\": 1.5, \"quantity\": 2},\n",
    "    {\"item\": \"bread\", \"category\": \"bakery\", \"price\": 2.0, \"quantity\": 3},\n",
    "]"
   ]
  },
  {
   "cell_type": "markdown",
   "id": "b5d59448",
   "metadata": {},
   "source": [
    "# Аналитические функции"
   ]
  },
  {
   "cell_type": "code",
   "execution_count": 51,
   "id": "26b43fe4",
   "metadata": {},
   "outputs": [],
   "source": [
    "def total_revenue(purchases: List[Purchase]) -> float:\n",
    "    \"\"\"\n",
    "    Вычисляет общую выручку на основе списка объектов Purchase.\n",
    "\n",
    "    Перемножает цену и количество для каждой покупки и суммирует полученные значения.\n",
    "\n",
    "    :param purchases: Список объектов Purchase.\n",
    "    :type purchases: list[Purchase]\n",
    "    :return: Общая выручка от всех покупок.\n",
    "    :rtype: float\n",
    "    \"\"\"\n",
    "    return sum(item['price'] * item['quantity'] for item in purchases)\n",
    "\n",
    "\n",
    "def items_by_category(purchases: List[Purchase]) -> Dict[str, List[str]]:\n",
    "    \"\"\"\n",
    "    Группирует товары по категориям.\n",
    "\n",
    "    Возвращает словарь, где каждому названию категории соответствует список товаров.\n",
    "\n",
    "    :param purchases: Список словарей с ключами 'category' и 'item'.\n",
    "    :return: Словарь вида {категория: [товар1, товар2, ...]}.\n",
    "    :rtype: dict[str, list[str]]\n",
    "    :raises KeyError: Если отсутствуют ключи 'category' или 'item'.\n",
    "    \"\"\"\n",
    "    category_dict = {}\n",
    "\n",
    "    for purchase in purchases:\n",
    "        category_dict.setdefault(purchase['category'], set()).add(purchase['item'])\n",
    "\n",
    "    return {k: list(v) for k, v in category_dict.items()}\n",
    "\n",
    "\n",
    "def expensive_purchases(purchases: List[Purchase], min_price: float) -> List[Purchase]:\n",
    "    \"\"\"\n",
    "    Возвращает список покупок с ценой, превышающей или равной заданному минимуму.\n",
    "\n",
    "    :param purchases: Список объектов Purchase.\n",
    "    :param min_price: Минимально допустимая цена покупки.\n",
    "    :return: Список покупок, цена которых не меньше min_price.\n",
    "    :rtype: list[Purchase]\n",
    "    :raises KeyError: Если в Purchase отсутствует поле 'price' (если это словарь).\n",
    "    :raises TypeError: Если значение 'price' или min_price имеет неподходящий тип.\n",
    "    \"\"\"\n",
    "    return [purchase for purchase in purchases if purchase['price'] >= min_price]\n",
    "\n",
    "\n",
    "\n",
    "def average_price_by_category(purchases: List[Purchase]) -> Dict[str, float]:\n",
    "    \"\"\"\n",
    "    Вычисляет среднюю цену товаров по категориям.\n",
    "\n",
    "    Группирует покупки по категориям и возвращает словарь,\n",
    "    в котором каждой категории соответствует средняя цена.\n",
    "\n",
    "    :param purchases: Список объектов Purchase с полями 'category' и 'price'.\n",
    "    :return: Словарь вида {категория: средняя_цена}.\n",
    "    :rtype: dict[str, float]\n",
    "    :raises KeyError: Если в объекте отсутствует поле 'category' или 'price'.\n",
    "    :raises TypeError: Если значения 'price' имеют неподходящий тип.\n",
    "    :raises ZeroDivisionError: Если категория будет иметь пустой список (маловероятно).\n",
    "    \"\"\"\n",
    "    category_price_dict = {}\n",
    "\n",
    "    for purchase in purchases:\n",
    "        category_price_dict.setdefault(purchase['category'], []).append(purchase['price'])\n",
    "\n",
    "    category_avg_price_dict = {\n",
    "        k: sum(v) / len(v) for k, v in category_price_dict.items()\n",
    "    }\n",
    "\n",
    "    return category_avg_price_dict\n",
    "\n",
    "\n",
    "def most_frequent_category(purchases: List[Purchase]) -> str:\n",
    "    \"\"\"\n",
    "    Определяет категорию с наибольшим общим количеством покупок.\n",
    "\n",
    "    Суммирует значения 'quantity' по категориям и возвращает\n",
    "    ту категорию, в которой суммарное количество покупок максимально.\n",
    "\n",
    "    :param purchases: Список объектов Purchase с полями 'category' и 'quantity'.\n",
    "    :return: Название категории с наибольшим количеством покупок.\n",
    "    :rtype: str\n",
    "    :raises KeyError: Если отсутствует поле 'category' или 'quantity'.\n",
    "    :raises TypeError: Если значение 'quantity' имеет неподходящий тип.\n",
    "    :raises ValueError: Если список purchases пуст.\n",
    "    \"\"\"\n",
    "    category_price_dict = {}\n",
    "\n",
    "    for purchase in purchases:\n",
    "        category_price_dict[purchase['category']] = category_price_dict.get(purchase['category'], 0) + purchase['quantity']\n",
    "\n",
    "    return max(category_price_dict.items(), key=lambda x: x[1])[0]"
   ]
  },
  {
   "cell_type": "markdown",
   "id": "b82a9e92",
   "metadata": {},
   "source": [
    "# Итоговый отчет"
   ]
  },
  {
   "cell_type": "code",
   "execution_count": 52,
   "id": "508795de",
   "metadata": {},
   "outputs": [
    {
     "name": "stdout",
     "output_type": "stream",
     "text": [
      "\n",
      "Общая выручка: 23.5\n",
      "Товары по категориям: {'fruit': ['apple', 'banana'], 'dairy': ['milk'], 'bakery': ['bread']}\n",
      "Покупки дороже 1.0: [{'item': 'apple', 'category': 'fruit', 'price': 1.2, 'quantity': 10}, {'item': 'milk', 'category': 'dairy', 'price': 1.5, 'quantity': 2}, {'item': 'bread', 'category': 'bakery', 'price': 2.0, 'quantity': 3}]\n",
      "Средняя цена по категориям: {'fruit': 0.85, 'dairy': 1.5, 'bakery': 2.0}\n",
      "Категория с наибольшим количеством проданных товаров: fruit      \n"
     ]
    },
    {
     "data": {
      "text/plain": [
       "482"
      ]
     },
     "execution_count": 52,
     "metadata": {},
     "output_type": "execute_result"
    }
   ],
   "source": [
    "total_rev = total_revenue(purchases)\n",
    "catalog = items_by_category(purchases)\n",
    "expensive_products = expensive_purchases(purchases, MIN_PRICE)\n",
    "avg_cat_price = average_price_by_category(purchases)\n",
    "most_frequent_cat = most_frequent_category(purchases)\n",
    "\n",
    "\n",
    "sys.stdout.write(f\"\"\"\n",
    "Общая выручка: {total_rev}\n",
    "Товары по категориям: {catalog}\n",
    "Покупки дороже {MIN_PRICE}: {expensive_products}\n",
    "Средняя цена по категориям: {avg_cat_price}\n",
    "Категория с наибольшим количеством проданных товаров: {most_frequent_cat}      \n",
    "\"\"\")"
   ]
  },
  {
   "cell_type": "code",
   "execution_count": null,
   "id": "14347c40",
   "metadata": {},
   "outputs": [],
   "source": []
  }
 ],
 "metadata": {
  "kernelspec": {
   "display_name": "venv",
   "language": "python",
   "name": "python3"
  },
  "language_info": {
   "codemirror_mode": {
    "name": "ipython",
    "version": 3
   },
   "file_extension": ".py",
   "mimetype": "text/x-python",
   "name": "python",
   "nbconvert_exporter": "python",
   "pygments_lexer": "ipython3",
   "version": "3.10.12"
  }
 },
 "nbformat": 4,
 "nbformat_minor": 5
}
